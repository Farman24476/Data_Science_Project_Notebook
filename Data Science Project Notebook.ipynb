{
  "metadata": {
    "kernelspec": {
      "name": "python",
      "display_name": "Python (Pyodide)",
      "language": "python"
    },
    "language_info": {
      "name": ""
    }
  },
  "nbformat_minor": 5,
  "nbformat": 4,
  "cells": [
    {
      "id": "b82cd845-7abc-4c4e-b687-0d5e9578ef93",
      "cell_type": "markdown",
      "source": "# Data Science Project Notebook",
      "metadata": {}
    },
    {
      "id": "ef9fb07b-6546-43bc-ac1a-fc59ef8af8fe",
      "cell_type": "markdown",
      "source": "## Introduction\nThis notebook explores various aspects of data science, including languages, libraries, and tools.",
      "metadata": {
        "jp-MarkdownHeadingCollapsed": true
      }
    },
    {
      "id": "a9c6f44b-08c2-4ed4-8c89-51ab84225b41",
      "cell_type": "markdown",
      "source": "## Data Science Languages\n- Python\n- R\n- SQL\n- JavaScript",
      "metadata": {
        "jp-MarkdownHeadingCollapsed": true
      }
    },
    {
      "id": "980c3544-256f-4ea4-b5a9-51404d970a82",
      "cell_type": "markdown",
      "source": "## Data Science Libraries\n- NumPy\n- Pandas\n- Matplotlib\n- Scikit-learn",
      "metadata": {}
    },
    {
      "id": "630b5ccf-6218-41c7-b320-80ac0740258c",
      "cell_type": "markdown",
      "source": "## Data Science Tools\n| Tool         | Purpose                       |\n|--------------|-------------------------------|\n| Jupyter      | Interactive notebooks          |\n| GitHub       | Version control                |\n| Tableau      | Data visualization             |\n| Apache Spark | Big data processing            |",
      "metadata": {}
    },
    {
      "id": "644a9f6d-1565-4847-bdb4-6364465afbff",
      "cell_type": "markdown",
      "source": "## Arithmetic Expression Examples\nBelow are examples of basic arithmetic operations.",
      "metadata": {}
    },
    {
      "id": "33d61267-e653-4461-a04e-c6261bbac4ca",
      "cell_type": "code",
      "source": "# This is a simple arithmetic expression to multiply then add integers\n(3 * 4) + 5\n",
      "metadata": {
        "trusted": true
      },
      "outputs": [
        {
          "execution_count": 5,
          "output_type": "execute_result",
          "data": {
            "text/plain": "17"
          },
          "metadata": {}
        }
      ],
      "execution_count": 5
    },
    {
      "id": "06a7336c-4027-41c7-a5cc-c97973c18864",
      "cell_type": "code",
      "source": "# This will convert 200 minutes to hours by dividing by 60\n200 / 60\n",
      "metadata": {
        "trusted": true
      },
      "outputs": [
        {
          "execution_count": 6,
          "output_type": "execute_result",
          "data": {
            "text/plain": "3.3333333333333335"
          },
          "metadata": {}
        }
      ],
      "execution_count": 6
    },
    {
      "id": "12211b7b-a06f-492d-8db7-d9fcdcd99c7c",
      "cell_type": "markdown",
      "source": "## Objectives\n- Understand data science languages and libraries.\n- Explore tools used in data science.\n- Perform basic arithmetic operations using Python.",
      "metadata": {}
    },
    {
      "id": "468e6d6d-f788-4a6a-b14e-fdc1be29b5b8",
      "cell_type": "markdown",
      "source": "## Author\nMd Farman Ali",
      "metadata": {}
    },
    {
      "id": "741ea513-6b1f-4734-bde1-18bcd37fdc45",
      "cell_type": "code",
      "source": "",
      "metadata": {
        "trusted": true
      },
      "outputs": [],
      "execution_count": null
    },
    {
      "id": "358eee01-1370-4688-9f8c-a55d6a52e002",
      "cell_type": "code",
      "source": "",
      "metadata": {
        "trusted": true
      },
      "outputs": [],
      "execution_count": null
    }
  ]
}